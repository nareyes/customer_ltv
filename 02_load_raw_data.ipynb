{
 "cells": [
  {
   "cell_type": "markdown",
   "metadata": {},
   "source": [
    "# Create Database and Load Raw Data"
   ]
  },
  {
   "cell_type": "markdown",
   "metadata": {},
   "source": [
    "### Import Modules"
   ]
  },
  {
   "cell_type": "code",
   "execution_count": null,
   "metadata": {},
   "outputs": [],
   "source": [
    "import json\n",
    "import duckdb\n",
    "import pandas as pd\n",
    "from glob import glob"
   ]
  },
  {
   "attachments": {},
   "cell_type": "markdown",
   "metadata": {},
   "source": [
    "### Create Functions"
   ]
  },
  {
   "cell_type": "code",
   "execution_count": null,
   "metadata": {},
   "outputs": [],
   "source": [
    "# read from file and store in dataframe object\n",
    "def df_from_file(path):\n",
    "    with open(path) as file:\n",
    "        data = json.load(file)\n",
    "\n",
    "    df = pd.json_normalize(data, record_path = ['data'])\n",
    "\n",
    "    return df"
   ]
  },
  {
   "cell_type": "code",
   "execution_count": null,
   "metadata": {},
   "outputs": [],
   "source": [
    "# read from dataframe object and store in database\n",
    "def load_duckdb(db, directory, table):\n",
    "    for index, file in enumerate(glob(f'json/{directory}/*')):\n",
    "        df = df_from_file(file)\n",
    "\n",
    "        if index == 0:\n",
    "            db.sql(f'create table {table} as select * from df')\n",
    "        \n",
    "        db.sql(f'insert into {table} select * from df')"
   ]
  },
  {
   "cell_type": "markdown",
   "metadata": {},
   "source": [
    "### Load JSON Files to DuckDB Database"
   ]
  },
  {
   "cell_type": "code",
   "execution_count": null,
   "metadata": {},
   "outputs": [],
   "source": [
    "# connect to local duckdb instance\n",
    "db = duckdb.connect('raw.duckdb')"
   ]
  },
  {
   "cell_type": "code",
   "execution_count": null,
   "metadata": {},
   "outputs": [],
   "source": [
    "# membership instance events variables\n",
    "directory = table = 'membership_instance_events'\n",
    "\n",
    "# drop membership instance events\n",
    "db.sql(f'drop table if exists {table}')\n",
    "\n",
    "# load membership instance events\n",
    "load_duckdb(db, directory, table)"
   ]
  },
  {
   "cell_type": "markdown",
   "metadata": {},
   "source": [
    "### Inspect Data (DuckDB)"
   ]
  },
  {
   "cell_type": "code",
   "execution_count": null,
   "metadata": {},
   "outputs": [],
   "source": [
    "# membership instance events\n",
    "db.sql(\"select * from membership_instance_events limit 10\")"
   ]
  },
  {
   "cell_type": "markdown",
   "metadata": {},
   "source": [
    "### Load JSON Files to ADLS"
   ]
  },
  {
   "cell_type": "markdown",
   "metadata": {},
   "source": [
    "- Add credentials and keys\n",
    "- Write JSON files to ADLS\n",
    "- Craete pipeline to move from ADLS to SQL DB"
   ]
  }
 ],
 "metadata": {
  "kernelspec": {
   "display_name": "Python 3 (ipykernel)",
   "language": "python",
   "name": "python3"
  },
  "language_info": {
   "codemirror_mode": {
    "name": "ipython",
    "version": 3
   },
   "file_extension": ".py",
   "mimetype": "text/x-python",
   "name": "python",
   "nbconvert_exporter": "python",
   "pygments_lexer": "ipython3",
   "version": "3.9.16"
  },
  "vscode": {
   "interpreter": {
    "hash": "ad6c207288cee2308114ac3e9e574bd21b6ffacf81935f9f18c46afc6ee30a3d"
   }
  }
 },
 "nbformat": 4,
 "nbformat_minor": 4
}
