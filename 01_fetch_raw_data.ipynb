{
 "cells": [
  {
   "cell_type": "markdown",
   "metadata": {},
   "source": [
    "# Fetch Data"
   ]
  },
  {
   "cell_type": "markdown",
   "metadata": {},
   "source": [
    "### Import Modules"
   ]
  },
  {
   "cell_type": "code",
   "execution_count": null,
   "metadata": {},
   "outputs": [],
   "source": [
    "import requests\n",
    "from glob import glob\n",
    "from time import sleep\n",
    "from tqdm.notebook import tqdm\n",
    "from creds import api_creds"
   ]
  },
  {
   "cell_type": "markdown",
   "metadata": {},
   "source": [
    "### Create Functions"
   ]
  },
  {
   "cell_type": "code",
   "execution_count": null,
   "metadata": {},
   "outputs": [],
   "source": [
    "# authenticated api request\n",
    "def request(endpoint, params = {}, page = 1):\n",
    "    api_key = api_creds.api_key\n",
    "    \n",
    "    default_params = {\n",
    "        'page': page,\n",
    "        'page_size': 1000,\n",
    "    }        \n",
    "    \n",
    "    return requests.get(\n",
    "        f'{api_creds.base_url}/{endpoint}',\n",
    "        headers = {'Authorization': api_key},\n",
    "        params = { **params, **default_params }\n",
    "    )"
   ]
  },
  {
   "cell_type": "code",
   "execution_count": null,
   "metadata": {},
   "outputs": [],
   "source": [
    "# write output to JSON directory\n",
    "def write(response = None, directory = \"\", endpoint = \"\", page = 1):\n",
    "    with open(f'json/{directory}/{endpoint}.{page}.json', 'wb') as f:\n",
    "        for chunk in response.iter_content(chunk_size=128):\n",
    "            f.write(chunk)    "
   ]
  },
  {
   "cell_type": "code",
   "execution_count": null,
   "metadata": {},
   "outputs": [],
   "source": [
    "# download full dataset from endpoint\n",
    "def fetch(directory, endpoint, params = {}):\n",
    "    if len(glob(f'json/{directory}/{endpoint}*')) > 0:\n",
    "        print(f'Failed to Load. JSON Directory Already Contains Endpoint: {endpoint}.')\n",
    "    else:\n",
    "        response = request(endpoint, params = params)\n",
    "        response.raise_for_status()\n",
    "\n",
    "        write(directory = directory, response = response, endpoint = endpoint)\n",
    "        \n",
    "        pages = response.json()['meta']['pagination']['pages']\n",
    "\n",
    "        for i in tqdm(range(2, pages + 1), unit = 'GET'):\n",
    "            sleep(1) # limit load by waiting a second between requests\n",
    "            response = request(endpoint = endpoint, params = params, page = i)\n",
    "            write(response=response, directory = directory, endpoint = endpoint, page = i)     "
   ]
  },
  {
   "attachments": {},
   "cell_type": "markdown",
   "metadata": {},
   "source": [
    "### Test Response Code and Data Type"
   ]
  },
  {
   "cell_type": "code",
   "execution_count": null,
   "metadata": {},
   "outputs": [],
   "source": [
    "# membership instance events\n",
    "response = request('membership_instance_events')\n",
    "assert response.status_code == 200\n",
    "assert type(response.json()) == dict"
   ]
  },
  {
   "cell_type": "markdown",
   "metadata": {},
   "source": [
    "### Execute Fetch & Write"
   ]
  },
  {
   "cell_type": "code",
   "execution_count": null,
   "metadata": {},
   "outputs": [],
   "source": [
    "# fetch membership instance events and store in specified directory\n",
    "directory = endpoint = 'membership_instance_events'\n",
    "fetch(directory, endpoint)"
   ]
  }
 ],
 "metadata": {
  "kernelspec": {
   "display_name": "Python 3 (ipykernel)",
   "language": "python",
   "name": "python3"
  },
  "language_info": {
   "codemirror_mode": {
    "name": "ipython",
    "version": 3
   },
   "file_extension": ".py",
   "mimetype": "text/x-python",
   "name": "python",
   "nbconvert_exporter": "python",
   "pygments_lexer": "ipython3",
   "version": "3.9.16"
  },
  "vscode": {
   "interpreter": {
    "hash": "ad6c207288cee2308114ac3e9e574bd21b6ffacf81935f9f18c46afc6ee30a3d"
   }
  }
 },
 "nbformat": 4,
 "nbformat_minor": 4
}
