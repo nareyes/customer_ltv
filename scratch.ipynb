{
 "cells": [
  {
   "cell_type": "code",
   "execution_count": null,
   "id": "ae2472fb-a100-4c32-b399-4692f6f83c0f",
   "metadata": {},
   "outputs": [],
   "source": [
    "import duckdb\n",
    "import pandas as pd\n",
    "import seaborn as sns"
   ]
  },
  {
   "cell_type": "code",
   "execution_count": null,
   "id": "5bf410b0-8874-4c1f-85f0-47672c8550fe",
   "metadata": {},
   "outputs": [],
   "source": [
    "db = duckdb.connect('transformed.duckdb')"
   ]
  },
  {
   "cell_type": "code",
   "execution_count": null,
   "id": "6be7c5ce-d508-4734-bc4f-38702877a221",
   "metadata": {},
   "outputs": [],
   "source": [
    "df = pd.read_sql(\"select * from membership_instance_events\", db)"
   ]
  },
  {
   "cell_type": "code",
   "execution_count": null,
   "id": "3b4b8c20-dfc3-49c9-83d0-9bc75ba5ff7a",
   "metadata": {},
   "outputs": [],
   "source": [
    "sold_cancellation_df = (pd.merge(\n",
    "        df.query(\"type == 'cancellation'\"),\n",
    "        df.query(\"type == 'sold'\"),    \n",
    "        on = \"membership_instance_id\",\n",
    "        how = 'left')\n",
    "    .rename(columns = {\n",
    "        'datetime_x': 'cancellation_datetime',   \n",
    "        'datetime_y': 'sold_datetime'})\n",
    "    .filter(['sold_datetime', 'cancellation_datetime']))"
   ]
  },
  {
   "cell_type": "code",
   "execution_count": null,
   "id": "943eb89a-e6b3-4b36-87fc-feb772617e98",
   "metadata": {},
   "outputs": [],
   "source": [
    "sold_cancellation_df"
   ]
  },
  {
   "cell_type": "code",
   "execution_count": null,
   "id": "45ea74ab-33da-4afb-bd24-12deb3e7e823",
   "metadata": {},
   "outputs": [],
   "source": [
    "days = [i for i in (sold_cancellation_df['cancellation_datetime'] - sold_cancellation_df['sold_datetime']).dt.days if i > 14]"
   ]
  },
  {
   "cell_type": "code",
   "execution_count": null,
   "id": "c6d8d27c-abb4-4a65-a044-d9900b3c17c1",
   "metadata": {},
   "outputs": [],
   "source": [
    "sns.histplot(\n",
    "    data=days\n",
    ")"
   ]
  },
  {
   "cell_type": "code",
   "execution_count": null,
   "id": "e8399afd-8c45-42e7-9c47-9b846ab2fca7",
   "metadata": {},
   "outputs": [],
   "source": [
    "min(days)"
   ]
  }
 ],
 "metadata": {
  "kernelspec": {
   "display_name": "Python 3 (ipykernel)",
   "language": "python",
   "name": "python3"
  },
  "language_info": {
   "codemirror_mode": {
    "name": "ipython",
    "version": 3
   },
   "file_extension": ".py",
   "mimetype": "text/x-python",
   "name": "python",
   "nbconvert_exporter": "python",
   "pygments_lexer": "ipython3",
   "version": "3.9.12"
  }
 },
 "nbformat": 4,
 "nbformat_minor": 5
}
